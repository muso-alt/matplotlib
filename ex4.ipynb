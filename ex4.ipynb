{
 "cells": [
  {
   "cell_type": "code",
   "execution_count": 6,
   "id": "d674b00b-c199-4a02-8b58-1c918b68f69d",
   "metadata": {},
   "outputs": [
    {
     "data": {
      "application/vnd.jupyter.widget-view+json": {
       "model_id": "81c29ca3d35f496389fc6e48ddb66a83",
       "version_major": 2,
       "version_minor": 0
      },
      "text/plain": [
       "VBox(children=(Label(value='DataFrame and Graph Visualization'), Tab(children=(VBox(children=(FileUpload(value…"
      ]
     },
     "metadata": {},
     "output_type": "display_data"
    }
   ],
   "source": [
    "import pandas as pd\n",
    "import ipywidgets as widgets\n",
    "import matplotlib.pyplot as plt\n",
    "import seaborn as sns\n",
    "import plotly.graph_objects as go\n",
    "from IPython.display import display, clear_output\n",
    "from IPython.display import Image\n",
    "\n",
    "label = widgets.Label(value='DataFrame and Graph Visualization')\n",
    "\n",
    "file_upload = widgets.FileUpload(description='Upload File')\n",
    "\n",
    "output_button = widgets.Button(description='Display DataFrame')\n",
    "output = widgets.Output()\n",
    "\n",
    "radio_buttons = widgets.RadioButtons(options=['Matplotlib', 'Seaborn', 'Plotly'],\n",
    "                                     description='Select Library')\n",
    "\n",
    "plot_button = widgets.Button(description='Create Plot')\n",
    "plot_output = widgets.Output()\n",
    "\n",
    "def display_dataframe(b):\n",
    "    output.clear_output()\n",
    "    with output:\n",
    "        clear_output()\n",
    "        uploaded_files = file_upload.value\n",
    "        for file_info in uploaded_files.values():\n",
    "            filename = file_info['metadata']['name']\n",
    "            content = file_info['content']\n",
    "            df = pd.read_csv(pd.compat.StringIO(content.decode('utf-8')))\n",
    "            display(df)\n",
    "\n",
    "def create_plot(b):\n",
    "    plot_output.clear_output()\n",
    "    with plot_output:\n",
    "        clear_output()\n",
    "        for filename in file_upload.value:\n",
    "            content = file_upload.value[filename]['content']\n",
    "            df = pd.read_csv(pd.compat.StringIO(content.decode('utf-8')))\n",
    "            if radio_buttons.value == 'Matplotlib':\n",
    "                plt.figure(figsize=(8, 6))\n",
    "                sns.histplot(df.iloc[:, 0])\n",
    "                plt.title('Histogram')\n",
    "                plt.xlabel('Values')\n",
    "                plt.ylabel('Frequency')\n",
    "                plt.show()\n",
    "            elif radio_buttons.value == 'Seaborn':\n",
    "                plt.figure(figsize=(8, 6))\n",
    "                sns.scatterplot(x='column1', y='column2', data=df)\n",
    "                plt.title('Scatter Plot')\n",
    "                plt.xlabel('Column 1')\n",
    "                plt.ylabel('Column 2')\n",
    "                plt.show()\n",
    "            elif radio_buttons.value == 'Plotly':\n",
    "                fig = go.Figure(data=go.Bar(x=df.iloc[:, 0], y=df.iloc[:, 1]))\n",
    "                fig.update_layout(title='Bar Plot', xaxis_title='X', yaxis_title='Y')\n",
    "                fig.show()\n",
    "\n",
    "output_button.on_click(display_dataframe)\n",
    "plot_button.on_click(create_plot)\n",
    "\n",
    "tab = widgets.Tab()\n",
    "tab.children = [widgets.VBox([file_upload, output_button, output]),\n",
    "                widgets.VBox([radio_buttons, plot_button, plot_output])]\n",
    "tab.set_title(0, 'DataFrame')\n",
    "tab.set_title(1, 'Graph')\n",
    "display(widgets.VBox([label, tab]))\n"
   ]
  },
  {
   "cell_type": "code",
   "execution_count": null,
   "id": "30a5f6a9-baea-4608-990a-0eadb54a23cb",
   "metadata": {},
   "outputs": [],
   "source": []
  }
 ],
 "metadata": {
  "kernelspec": {
   "display_name": "Python 3 (ipykernel)",
   "language": "python",
   "name": "python3"
  },
  "language_info": {
   "codemirror_mode": {
    "name": "ipython",
    "version": 3
   },
   "file_extension": ".py",
   "mimetype": "text/x-python",
   "name": "python",
   "nbconvert_exporter": "python",
   "pygments_lexer": "ipython3",
   "version": "3.12.2"
  }
 },
 "nbformat": 4,
 "nbformat_minor": 5
}
