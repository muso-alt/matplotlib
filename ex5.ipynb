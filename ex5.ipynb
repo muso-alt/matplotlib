{
 "cells": [
  {
   "cell_type": "code",
   "execution_count": 1,
   "id": "30d84ef0-57bd-44c0-889d-7d9ef6fa128e",
   "metadata": {},
   "outputs": [],
   "source": [
    "import tkinter as tk\n",
    "from tkinter import filedialog, messagebox\n",
    "import pandas as pd\n",
    "\n",
    "class DataFrameGUI:\n",
    "    def __init__(self, root):\n",
    "        self.root = root\n",
    "        self.root.title(\"DataFrame GUI\")\n",
    "\n",
    "        self.label = tk.Label(root, text=\"DataFrame\", font=(\"Arial\", 14))\n",
    "        self.label.pack(pady=10)\n",
    "\n",
    "        self.canvas = tk.Canvas(root, width=400, height=300, bg=\"white\")\n",
    "        self.canvas.pack()\n",
    "\n",
    "        self.load_button = tk.Button(root, text=\"Load DataFrame\", command=self.load_dataframe)\n",
    "        self.load_button.pack(pady=10)\n",
    "\n",
    "        self.text = tk.Text(root, width=50, height=10)\n",
    "        self.text.pack(pady=10, padx=10)\n",
    "\n",
    "        self.sort_var = tk.BooleanVar()\n",
    "        self.sort_check = tk.Checkbutton(root, text=\"Sort DataFrame\", variable=self.sort_var)\n",
    "        self.sort_check.pack()\n",
    "\n",
    "    def load_dataframe(self):\n",
    "        file_path = filedialog.askopenfilename(filetypes=[(\"CSV files\", \"*.csv\"), (\"All files\", \"*.*\")])\n",
    "        if file_path:\n",
    "            try:\n",
    "                df = pd.read_csv(file_path)\n",
    "                if self.sort_var.get():\n",
    "                    df.sort_values(by=df.columns[0], inplace=True)\n",
    "                self.display_dataframe(df)\n",
    "            except Exception as e:\n",
    "                messagebox.showerror(\"Error\", f\"Unable to load DataFrame: {e}\")\n",
    "\n",
    "    def display_dataframe(self, df):\n",
    "        self.text.delete(1.0, tk.END)\n",
    "        self.text.insert(tk.END, df)\n",
    "\n",
    "\n",
    "if __name__ == \"__main__\":\n",
    "    root = tk.Tk()\n",
    "    app = DataFrameGUI(root)\n",
    "    root.mainloop()\n"
   ]
  },
  {
   "cell_type": "code",
   "execution_count": null,
   "id": "679d2135-02ff-4910-ab70-219a73269d51",
   "metadata": {},
   "outputs": [],
   "source": []
  }
 ],
 "metadata": {
  "kernelspec": {
   "display_name": "Python 3 (ipykernel)",
   "language": "python",
   "name": "python3"
  },
  "language_info": {
   "codemirror_mode": {
    "name": "ipython",
    "version": 3
   },
   "file_extension": ".py",
   "mimetype": "text/x-python",
   "name": "python",
   "nbconvert_exporter": "python",
   "pygments_lexer": "ipython3",
   "version": "3.12.2"
  }
 },
 "nbformat": 4,
 "nbformat_minor": 5
}
